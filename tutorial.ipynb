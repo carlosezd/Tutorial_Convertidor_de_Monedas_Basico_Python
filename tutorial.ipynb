{
 "cells": [
  {
   "cell_type": "markdown",
   "metadata": {},
   "source": [
    "# Tutorial - Tu Propio \"Convertidor de monedas\"\n",
    "Este es un tutorial te ayudará a construir tu propio convertidor de monedas desde cero. Utilizando simples comandos en python. Adicional a esto te propongo una solución para mantener tu convertidor funcional y actualizado a la última información utilizando webscrapping."
   ]
  },
  {
   "cell_type": "markdown",
   "metadata": {},
   "source": [
    "## Convertidor Básico\n",
    "Utilizaremos variables para crear un convertidor de monedas de soles a dolares y viceversa. Para ello le pediremos al usuario que ingresé los datos para hacer la transacción."
   ]
  },
  {
   "cell_type": "code",
   "execution_count": 2,
   "metadata": {},
   "outputs": [
    {
     "name": "stdout",
     "output_type": "stream",
     "text": [
      "Tus 100.0 soles, valen un total de 28.571428571428573 dolares.\n"
     ]
    }
   ],
   "source": [
    "\n",
    "current_amount = float(input('Ingresa la cantidad de soles a convertir -> '))\n",
    "ex_ratio = float(input('Ingresa el tipo de cambio actual -> '))\n",
    "\n",
    "action = input('''¿Que quieres hacer? \n",
    "              1 => Convertir de soles a dolares.\n",
    "               2 => Convertir de dolares a soles.\n",
    "               ''')\n",
    "\n",
    "if action == \"1\":\n",
    "    total = current_amount / ex_ratio\n",
    "    print(f'Tus {current_amount} soles, valen un total de {total} dolares.')\n",
    "elif action == \"2\":\n",
    "    total = current_amount * ex_ratio\n",
    "    print(f'Tus {current_amount} dolares, valen un total de {total} soles.')\n",
    "else: print('Solo puedes elegir entre esas dos opciones.')"
   ]
  },
  {
   "cell_type": "markdown",
   "metadata": {},
   "source": [
    "## Convertidor de Monedas Intermedio\n",
    "Añadiremos la función de preguntarnos si queremos hacer un nuevo calculo. Para ello utilizaremos un ciclo while para que el proceso anterior pueda ejecutarse en un bucle y que este mismo podamos terminarlo cuando demos la instrucción \"S\" para continuar o \"N\" para para el programa."
   ]
  },
  {
   "cell_type": "code",
   "execution_count": 2,
   "metadata": {},
   "outputs": [
    {
     "name": "stdout",
     "output_type": "stream",
     "text": [
      "Tus 100.0 dolares, valen un total de 350.0 soles.\n",
      "Gracias por utilizar el Convertidor de Monedas\n"
     ]
    }
   ],
   "source": [
    "while True:\n",
    "\n",
    "    current_amount = float(input('Ingresa la cantidad de soles a convertir -> '))\n",
    "    ex_ratio = float(input('Ingresa el tipo de cambio actual -> '))\n",
    "\n",
    "    action = input('''¿Que quieres hacer? \n",
    "                1 => Convertir de soles a dolares.\n",
    "                2 => Convertir de dolares a soles.\n",
    "                ''')\n",
    "\n",
    "    if action == \"1\":\n",
    "        total = current_amount / ex_ratio\n",
    "        print(f'Tus {current_amount} soles, valen un total de {total} dolares.')\n",
    "    elif action == \"2\":\n",
    "        total = current_amount * ex_ratio\n",
    "        print(f'Tus {current_amount} dolares, valen un total de {total} soles.')\n",
    "    else: print('Solo puedes elegir entre esas dos opciones.')\n",
    "\n",
    "    user_answer = str.upper(input('Quieres hacer otro calculo => S/N'))\n",
    "    if user_answer == \"S\":\n",
    "        continue\n",
    "    elif user_answer == \"N\":\n",
    "        print('Gracias por utilizar el Convertidor de Monedas')\n",
    "        break\n",
    "    else: \n",
    "        print('No escogiste niguna de las opciones, se terminará el programa anticipadamente. Gracias por usar el Convertidor de Monedas.')\n",
    "        break\n"
   ]
  }
 ],
 "metadata": {
  "kernelspec": {
   "display_name": "Python 3",
   "language": "python",
   "name": "python3"
  },
  "language_info": {
   "codemirror_mode": {
    "name": "ipython",
    "version": 3
   },
   "file_extension": ".py",
   "mimetype": "text/x-python",
   "name": "python",
   "nbconvert_exporter": "python",
   "pygments_lexer": "ipython3",
   "version": "3.11.4"
  },
  "orig_nbformat": 4
 },
 "nbformat": 4,
 "nbformat_minor": 2
}
